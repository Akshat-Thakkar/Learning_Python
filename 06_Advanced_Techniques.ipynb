{
 "cells": [
  {
   "cell_type": "code",
   "execution_count": 1,
   "id": "559b8fea",
   "metadata": {},
   "outputs": [
    {
     "data": {
      "text/html": [
       "<div>\n",
       "<style scoped>\n",
       "    .dataframe tbody tr th:only-of-type {\n",
       "        vertical-align: middle;\n",
       "    }\n",
       "\n",
       "    .dataframe tbody tr th {\n",
       "        vertical-align: top;\n",
       "    }\n",
       "\n",
       "    .dataframe thead th {\n",
       "        text-align: right;\n",
       "    }\n",
       "</style>\n",
       "<table border=\"1\" class=\"dataframe\">\n",
       "  <thead>\n",
       "    <tr style=\"text-align: right;\">\n",
       "      <th></th>\n",
       "      <th>Price</th>\n",
       "      <th>Tax</th>\n",
       "      <th>Total_Loop</th>\n",
       "      <th>Total_Vectorized</th>\n",
       "    </tr>\n",
       "  </thead>\n",
       "  <tbody>\n",
       "    <tr>\n",
       "      <th>0</th>\n",
       "      <td>100</td>\n",
       "      <td>0.10</td>\n",
       "      <td>110.0</td>\n",
       "      <td>110.0</td>\n",
       "    </tr>\n",
       "    <tr>\n",
       "      <th>1</th>\n",
       "      <td>150</td>\n",
       "      <td>0.15</td>\n",
       "      <td>172.5</td>\n",
       "      <td>172.5</td>\n",
       "    </tr>\n",
       "    <tr>\n",
       "      <th>2</th>\n",
       "      <td>200</td>\n",
       "      <td>0.05</td>\n",
       "      <td>210.0</td>\n",
       "      <td>210.0</td>\n",
       "    </tr>\n",
       "    <tr>\n",
       "      <th>3</th>\n",
       "      <td>250</td>\n",
       "      <td>0.20</td>\n",
       "      <td>300.0</td>\n",
       "      <td>300.0</td>\n",
       "    </tr>\n",
       "    <tr>\n",
       "      <th>4</th>\n",
       "      <td>300</td>\n",
       "      <td>0.18</td>\n",
       "      <td>354.0</td>\n",
       "      <td>354.0</td>\n",
       "    </tr>\n",
       "  </tbody>\n",
       "</table>\n",
       "</div>"
      ],
      "text/plain": [
       "   Price   Tax  Total_Loop  Total_Vectorized\n",
       "0    100  0.10       110.0             110.0\n",
       "1    150  0.15       172.5             172.5\n",
       "2    200  0.05       210.0             210.0\n",
       "3    250  0.20       300.0             300.0\n",
       "4    300  0.18       354.0             354.0"
      ]
     },
     "execution_count": 1,
     "metadata": {},
     "output_type": "execute_result"
    }
   ],
   "source": [
    "#1.\tVectorization: Applying operations to entire arrays rather than individual elements.\n",
    "import pandas as pd\n",
    "\n",
    "df = pd.DataFrame({\n",
    "    \"Price\": [100, 150, 200, 250, 300],\n",
    "    \"Tax\": [0.1, 0.15, 0.05, 0.2, 0.18]\n",
    "})\n",
    "\n",
    "# Traditional way (loop)\n",
    "total_price_loop = []\n",
    "for i in range(len(df)):\n",
    "    total = df.loc[i, \"Price\"] + df.loc[i, \"Price\"] * df.loc[i, \"Tax\"]\n",
    "    total_price_loop.append(total)\n",
    "\n",
    "df[\"Total_Loop\"] = total_price_loop\n",
    "\n",
    "# Vectorized way\n",
    "df[\"Total_Vectorized\"] = df[\"Price\"] + df[\"Price\"] * df[\"Tax\"]\n",
    "\n",
    "df"
   ]
  },
  {
   "cell_type": "markdown",
   "id": "11f77ee6",
   "metadata": {},
   "source": [
    "Categorical Data: Optimize performance with categorical data types"
   ]
  },
  {
   "cell_type": "code",
   "execution_count": 2,
   "id": "0ddd8112",
   "metadata": {},
   "outputs": [
    {
     "name": "stdout",
     "output_type": "stream",
     "text": [
      "object\n"
     ]
    }
   ],
   "source": [
    "import pandas as pd\n",
    "\n",
    "df = pd.DataFrame({\n",
    "    \"Employee\": [\"A\", \"B\", \"C\", \"D\", \"E\"],\n",
    "    \"Department\": [\"HR\", \"Finance\", \"HR\", \"IT\", \"Finance\"]\n",
    "})\n",
    "\n",
    "print(df[\"Department\"].dtype)  # → object\n"
   ]
  },
  {
   "cell_type": "code",
   "execution_count": 3,
   "id": "b49a9258",
   "metadata": {},
   "outputs": [
    {
     "name": "stdout",
     "output_type": "stream",
     "text": [
      "category\n"
     ]
    }
   ],
   "source": [
    "df[\"Department\"] = df[\"Department\"].astype(\"category\")\n",
    "\n",
    "print(df[\"Department\"].dtype)  # → category\n"
   ]
  }
 ],
 "metadata": {
  "kernelspec": {
   "display_name": "Python 3",
   "language": "python",
   "name": "python3"
  },
  "language_info": {
   "codemirror_mode": {
    "name": "ipython",
    "version": 3
   },
   "file_extension": ".py",
   "mimetype": "text/x-python",
   "name": "python",
   "nbconvert_exporter": "python",
   "pygments_lexer": "ipython3",
   "version": "3.11.9"
  }
 },
 "nbformat": 4,
 "nbformat_minor": 5
}
