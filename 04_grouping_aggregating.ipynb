{
 "cells": [
  {
   "cell_type": "code",
   "execution_count": 1,
   "id": "9b742fd0",
   "metadata": {},
   "outputs": [],
   "source": [
    "import pandas as pd\n",
    "\n",
    "df = pd.DataFrame({\n",
    "    \"Department\": [\"HR\", \"IT\", \"HR\", \"Finance\", \"IT\", \"HR\", \"Finance\", \"IT\"],\n",
    "    \"Employee\": [\"A\", \"B\", \"C\", \"D\", \"E\", \"F\", \"G\", \"H\"],\n",
    "    \"Salary\": [50000, 60000, 52000, 58000, 62000, 51000, 59000, 63000],\n",
    "    \"Experience\": [2, 3, 1, 5, 4, 2, 6, 3]\n",
    "})\n"
   ]
  },
  {
   "cell_type": "code",
   "execution_count": 7,
   "id": "9605de45",
   "metadata": {},
   "outputs": [
    {
     "data": {
      "text/plain": [
       "<pandas.core.groupby.generic.DataFrameGroupBy object at 0x0000022B0C7756D0>"
      ]
     },
     "execution_count": 7,
     "metadata": {},
     "output_type": "execute_result"
    }
   ],
   "source": [
    "grouped = df.groupby(\"Department\")\n",
    "grouped"
   ]
  },
  {
   "cell_type": "code",
   "execution_count": 3,
   "id": "855346a3",
   "metadata": {},
   "outputs": [],
   "source": [
    "# Mean salary by department\n",
    "avg_salary = grouped[\"Salary\"].mean()\n",
    "\n",
    "# Count of employees in each department\n",
    "employee_count = grouped[\"Employee\"].count()\n"
   ]
  },
  {
   "cell_type": "code",
   "execution_count": 4,
   "id": "5dffd585",
   "metadata": {},
   "outputs": [],
   "source": [
    "# Mean salary by department\n",
    "avg_salary = grouped[\"Salary\"].mean()\n",
    "\n",
    "# Count of employees in each department\n",
    "employee_count = grouped[\"Employee\"].count()\n"
   ]
  },
  {
   "cell_type": "code",
   "execution_count": 5,
   "id": "d1341dc6",
   "metadata": {},
   "outputs": [],
   "source": [
    "summary = grouped.agg({\n",
    "    \"Salary\": [\"mean\", \"max\", \"min\"],\n",
    "    \"Experience\": \"median\"\n",
    "})\n"
   ]
  },
  {
   "cell_type": "code",
   "execution_count": 6,
   "id": "a71427b1",
   "metadata": {},
   "outputs": [
    {
     "data": {
      "text/html": [
       "<div>\n",
       "<style scoped>\n",
       "    .dataframe tbody tr th:only-of-type {\n",
       "        vertical-align: middle;\n",
       "    }\n",
       "\n",
       "    .dataframe tbody tr th {\n",
       "        vertical-align: top;\n",
       "    }\n",
       "\n",
       "    .dataframe thead tr th {\n",
       "        text-align: left;\n",
       "    }\n",
       "\n",
       "    .dataframe thead tr:last-of-type th {\n",
       "        text-align: right;\n",
       "    }\n",
       "</style>\n",
       "<table border=\"1\" class=\"dataframe\">\n",
       "  <thead>\n",
       "    <tr>\n",
       "      <th></th>\n",
       "      <th colspan=\"3\" halign=\"left\">Salary</th>\n",
       "      <th>Experience</th>\n",
       "    </tr>\n",
       "    <tr>\n",
       "      <th></th>\n",
       "      <th>mean</th>\n",
       "      <th>max</th>\n",
       "      <th>min</th>\n",
       "      <th>median</th>\n",
       "    </tr>\n",
       "    <tr>\n",
       "      <th>Department</th>\n",
       "      <th></th>\n",
       "      <th></th>\n",
       "      <th></th>\n",
       "      <th></th>\n",
       "    </tr>\n",
       "  </thead>\n",
       "  <tbody>\n",
       "    <tr>\n",
       "      <th>Finance</th>\n",
       "      <td>58500.000000</td>\n",
       "      <td>59000</td>\n",
       "      <td>58000</td>\n",
       "      <td>5.5</td>\n",
       "    </tr>\n",
       "    <tr>\n",
       "      <th>HR</th>\n",
       "      <td>51000.000000</td>\n",
       "      <td>52000</td>\n",
       "      <td>50000</td>\n",
       "      <td>2.0</td>\n",
       "    </tr>\n",
       "    <tr>\n",
       "      <th>IT</th>\n",
       "      <td>61666.666667</td>\n",
       "      <td>63000</td>\n",
       "      <td>60000</td>\n",
       "      <td>3.0</td>\n",
       "    </tr>\n",
       "  </tbody>\n",
       "</table>\n",
       "</div>"
      ],
      "text/plain": [
       "                  Salary               Experience\n",
       "                    mean    max    min     median\n",
       "Department                                       \n",
       "Finance     58500.000000  59000  58000        5.5\n",
       "HR          51000.000000  52000  50000        2.0\n",
       "IT          61666.666667  63000  60000        3.0"
      ]
     },
     "execution_count": 6,
     "metadata": {},
     "output_type": "execute_result"
    }
   ],
   "source": [
    "summary"
   ]
  },
  {
   "cell_type": "code",
   "execution_count": null,
   "id": "39e43c7d",
   "metadata": {},
   "outputs": [],
   "source": []
  }
 ],
 "metadata": {
  "kernelspec": {
   "display_name": "Python 3",
   "language": "python",
   "name": "python3"
  },
  "language_info": {
   "codemirror_mode": {
    "name": "ipython",
    "version": 3
   },
   "file_extension": ".py",
   "mimetype": "text/x-python",
   "name": "python",
   "nbconvert_exporter": "python",
   "pygments_lexer": "ipython3",
   "version": "3.11.9"
  }
 },
 "nbformat": 4,
 "nbformat_minor": 5
}
