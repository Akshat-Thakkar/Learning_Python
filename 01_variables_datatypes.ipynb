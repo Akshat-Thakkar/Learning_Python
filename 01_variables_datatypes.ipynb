{
 "cells": [
  {
   "cell_type": "code",
   "execution_count": null,
   "id": "37c1a152",
   "metadata": {},
   "outputs": [],
   "source": [
    "#basic data types in python \n",
    "a = 5            # int\n",
    "b = 3.14         # float\n",
    "c = \"hello\"      # str\n",
    "d = True         # bool\n",
    "e = 2 + 3j       # complex\n",
    "f = None         # NoneType\n"
   ]
  },
  {
   "cell_type": "code",
   "execution_count": null,
   "id": "78d9590f",
   "metadata": {},
   "outputs": [],
   "source": []
  }
 ],
 "metadata": {
  "kernelspec": {
   "display_name": "Python 3",
   "language": "python",
   "name": "python3"
  },
  "language_info": {
   "name": "python",
   "version": "3.11.9"
  }
 },
 "nbformat": 4,
 "nbformat_minor": 5
}
