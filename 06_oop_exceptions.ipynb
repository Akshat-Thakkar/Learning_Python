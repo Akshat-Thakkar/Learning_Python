{
 "cells": [
  {
   "cell_type": "markdown",
   "id": "60870023",
   "metadata": {},
   "source": [
    "Practice task"
   ]
  },
  {
   "cell_type": "code",
   "execution_count": null,
   "id": "2998ad5e",
   "metadata": {},
   "outputs": [],
   "source": [
    "#Create a Car class with attributes brand, year and a method start().\n",
    "class Car:\n",
    "    def __init__(self, brand, year):\n",
    "        self.brand = brand\n",
    "        self.year = year\n",
    "\n",
    "    def start(self):\n",
    "        return f\"The {self.year} {self.brand} is starting.\"\n",
    "\n"
   ]
  },
  {
   "cell_type": "code",
   "execution_count": 24,
   "id": "4ce89e92",
   "metadata": {},
   "outputs": [
    {
     "name": "stdout",
     "output_type": "stream",
     "text": [
      "Dice roll: 6\n"
     ]
    }
   ],
   "source": [
    "#Use random to simulate a dice roll.\n",
    "import random\n",
    "roll=random.randint(1, 6)\n",
    "print(\"Dice roll:\", roll)"
   ]
  }
 ],
 "metadata": {
  "kernelspec": {
   "display_name": "Python 3",
   "language": "python",
   "name": "python3"
  },
  "language_info": {
   "codemirror_mode": {
    "name": "ipython",
    "version": 3
   },
   "file_extension": ".py",
   "mimetype": "text/x-python",
   "name": "python",
   "nbconvert_exporter": "python",
   "pygments_lexer": "ipython3",
   "version": "3.11.9"
  }
 },
 "nbformat": 4,
 "nbformat_minor": 5
}
