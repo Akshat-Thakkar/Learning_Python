{
 "cells": [
  {
   "cell_type": "code",
   "execution_count": 4,
   "id": "9078a0de",
   "metadata": {},
   "outputs": [
    {
     "data": {
      "text/html": [
       "<div>\n",
       "<style scoped>\n",
       "    .dataframe tbody tr th:only-of-type {\n",
       "        vertical-align: middle;\n",
       "    }\n",
       "\n",
       "    .dataframe tbody tr th {\n",
       "        vertical-align: top;\n",
       "    }\n",
       "\n",
       "    .dataframe thead th {\n",
       "        text-align: right;\n",
       "    }\n",
       "</style>\n",
       "<table border=\"1\" class=\"dataframe\">\n",
       "  <thead>\n",
       "    <tr style=\"text-align: right;\">\n",
       "      <th></th>\n",
       "      <th>name</th>\n",
       "      <th>score</th>\n",
       "      <th>grade</th>\n",
       "    </tr>\n",
       "  </thead>\n",
       "  <tbody>\n",
       "    <tr>\n",
       "      <th>a</th>\n",
       "      <td>Akshat</td>\n",
       "      <td>90</td>\n",
       "      <td>A</td>\n",
       "    </tr>\n",
       "    <tr>\n",
       "      <th>b</th>\n",
       "      <td>khushi</td>\n",
       "      <td>85</td>\n",
       "      <td>B</td>\n",
       "    </tr>\n",
       "    <tr>\n",
       "      <th>c</th>\n",
       "      <td>Kartik</td>\n",
       "      <td>89</td>\n",
       "      <td>A</td>\n",
       "    </tr>\n",
       "    <tr>\n",
       "      <th>d</th>\n",
       "      <td>Disha</td>\n",
       "      <td>98</td>\n",
       "      <td>A+</td>\n",
       "    </tr>\n",
       "  </tbody>\n",
       "</table>\n",
       "</div>"
      ],
      "text/plain": [
       "     name  score grade\n",
       "a  Akshat     90     A\n",
       "b  khushi     85     B\n",
       "c  Kartik     89     A\n",
       "d   Disha     98    A+"
      ]
     },
     "execution_count": 4,
     "metadata": {},
     "output_type": "execute_result"
    }
   ],
   "source": [
    "import pandas as pd\n",
    "\n",
    "df = pd.DataFrame(\n",
    "    {'name': ['Akshat', 'khushi', 'Kartik', 'Disha'],\n",
    "     'score': [90, 85, 89, 98],\n",
    "     'grade': ['A', 'B', 'A', 'A+']},\n",
    "      index=['a', 'b', 'c', 'd'])\n",
    "\n",
    "df"
   ]
  },
  {
   "cell_type": "code",
   "execution_count": 10,
   "id": "6c9ed907",
   "metadata": {},
   "outputs": [
    {
     "name": "stdout",
     "output_type": "stream",
     "text": [
      "name     Akshat\n",
      "score        90\n",
      "grade         A\n",
      "Name: a, dtype: object\n",
      "     name  score\n",
      "c  Kartik     89\n",
      "d   Disha     98\n"
     ]
    }
   ],
   "source": [
    "#.loc[] – Access a group of rows and columns by labels\n",
    "print(df.loc['a'])\n",
    "# To select columns 'name' and 'score' for all rows, use:\n",
    "print(df.loc[\"c\":, ['name', 'score']])"
   ]
  },
  {
   "cell_type": "code",
   "execution_count": 15,
   "id": "ab26826f",
   "metadata": {},
   "outputs": [
    {
     "name": "stdout",
     "output_type": "stream",
     "text": [
      "name     Akshat\n",
      "score        90\n",
      "grade         A\n",
      "Name: a, dtype: object\n",
      "     name\n",
      "a  Akshat\n",
      "b  khushi\n"
     ]
    }
   ],
   "source": [
    "#.iloc[] – Access a group of rows and columns by integer positions\n",
    "print(df.iloc[0])\n",
    "print(df.iloc[0:2, :1])\n"
   ]
  },
  {
   "cell_type": "code",
   "execution_count": null,
   "id": "2a3acc8e",
   "metadata": {},
   "outputs": [
    {
     "name": "stdout",
     "output_type": "stream",
     "text": [
      "     name  score grade\n",
      "a  Akshat     90     A\n",
      "c  Kartik     89     A\n",
      "d   Disha     98    A+\n"
     ]
    }
   ],
   "source": [
    "#3. Boolean Indexing\n",
    "print(df[df['score'] > 85])"
   ]
  },
  {
   "cell_type": "code",
   "execution_count": 19,
   "id": "3ac80055",
   "metadata": {},
   "outputs": [
    {
     "name": "stdout",
     "output_type": "stream",
     "text": [
      "Akshat\n",
      "85\n"
     ]
    }
   ],
   "source": [
    "#.at[] – Fast label-based scalar access\n",
    "print(df.at['a','name'])\n",
    "print(df.at['b','score'])\n"
   ]
  },
  {
   "cell_type": "code",
   "execution_count": 23,
   "id": "bee3e47e",
   "metadata": {},
   "outputs": [
    {
     "name": "stdout",
     "output_type": "stream",
     "text": [
      "A\n",
      "85\n"
     ]
    }
   ],
   "source": [
    "#.iat[] – Fast integer position-based scalar access\n",
    "print(df.iat[0, 2])\n",
    "print(df.iat[1, 1])\n",
    "\n"
   ]
  }
 ],
 "metadata": {
  "kernelspec": {
   "display_name": "Python 3",
   "language": "python",
   "name": "python3"
  },
  "language_info": {
   "codemirror_mode": {
    "name": "ipython",
    "version": 3
   },
   "file_extension": ".py",
   "mimetype": "text/x-python",
   "name": "python",
   "nbconvert_exporter": "python",
   "pygments_lexer": "ipython3",
   "version": "3.11.9"
  }
 },
 "nbformat": 4,
 "nbformat_minor": 5
}
