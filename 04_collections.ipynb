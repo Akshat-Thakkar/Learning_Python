{
 "cells": [
  {
   "cell_type": "code",
   "execution_count": null,
   "id": "d9f672b1",
   "metadata": {},
   "outputs": [
    {
     "name": "stdout",
     "output_type": "stream",
     "text": [
      "apple\n",
      "['mango', 'orange']\n",
      "3\n",
      "['apple', 'mango', 'orange']\n"
     ]
    }
   ],
   "source": [
    "#1. Lists – Ordered, Mutable , Homogeneous data structure\n",
    "fruits = ['apple', 'banana', 'mango']\n",
    "fruits.append('orange')               # add\n",
    "fruits.remove('banana')               # remove\n",
    "print(fruits[0])                      # access\n",
    "print(fruits[1:3])                    # slicing\n",
    "print(len(fruits))                    # length\n",
    "print(fruits)"
   ]
  },
  {
   "cell_type": "code",
   "execution_count": null,
   "id": "0e64d23d",
   "metadata": {},
   "outputs": [],
   "source": [
    "# 2. Tuples – Ordered, Immutable,Hetrogeneous data types\n",
    "my_tuple = (1, 2, \"apple\", True)"
   ]
  },
  {
   "cell_type": "code",
   "execution_count": null,
   "id": "3f02fc17",
   "metadata": {},
   "outputs": [
    {
     "name": "stdout",
     "output_type": "stream",
     "text": [
      "{1, 3, 6}\n"
     ]
    }
   ],
   "source": [
    "#3. Sets – Unordered, Unique, No Indexing\n",
    "a = {1, 2, 3}\n",
    "b = {3, 4, 5}\n",
    "\n",
    "a.add(6)\n",
    "a.remove(2)\n",
    "a.union(b)                     # {1,2,3,4,5,6}\n",
    "a.intersection(b)              # {3}\n",
    "a.difference(b)                # {1,2,6}\n",
    "print(a)"
   ]
  },
  {
   "cell_type": "code",
   "execution_count": 8,
   "id": "0c708be5",
   "metadata": {},
   "outputs": [
    {
     "name": "stdout",
     "output_type": "stream",
     "text": [
      "Alice\n",
      "New York\n",
      "dict_keys(['name', 'age', 'city', 'country'])\n",
      "dict_values(['Alice', 31, 'New York', 'USA'])\n",
      "dict_items([('name', 'Alice'), ('age', 31), ('city', 'New York'), ('country', 'USA')])\n"
     ]
    }
   ],
   "source": [
    "# 4. Dictionaries – Key-Value pairs, Mutable\n",
    "my_dict = {'name': 'Alice', 'age': 30, 'city': 'New York'} \n",
    "my_dict['age'] = 31               # update\n",
    "my_dict['country'] = 'USA'        # add\n",
    "print(my_dict['name'])            # access\n",
    "print(my_dict.get('city'))        # access with get\n",
    "print(my_dict.keys())             # get keys\n",
    "print(my_dict.values())           # get values\n",
    "print(my_dict.items())            # get key-value pairs\n",
    "del my_dict['city']               # delete key-value pair           "
   ]
  },
  {
   "cell_type": "markdown",
   "id": "ff0b480c",
   "metadata": {},
   "source": [
    "Practice Tasks"
   ]
  },
  {
   "cell_type": "code",
   "execution_count": 10,
   "id": "d0a8930a",
   "metadata": {},
   "outputs": [
    {
     "name": "stdout",
     "output_type": "stream",
     "text": [
      "[2, 4, 6, 8, 10, 12, 14, 16, 18, 20]\n"
     ]
    }
   ],
   "source": [
    "#Create a list of even numbers from 1–20 using list comprehension.\n",
    "even_numbers = [x for x in range(2,21,2)]\n",
    "print(even_numbers)"
   ]
  },
  {
   "cell_type": "code",
   "execution_count": null,
   "id": "3462ce4a",
   "metadata": {},
   "outputs": [
    {
     "name": "stdout",
     "output_type": "stream",
     "text": [
      "{1, 2, 3, 4, 5}\n",
      "Maximum value in the set: 5\n"
     ]
    }
   ],
   "source": [
    "#Create a set from a list that contains duplicates.\n",
    "my_list = [1, 2, 2, 3, 4, 4, 5]\n",
    "my_set = set(my_list)\n",
    "max_value = max(my_set)\n",
    "print(my_set)\n",
    "print(\"Maximum value in the set:\", max_value)"
   ]
  },
  {
   "cell_type": "code",
   "execution_count": null,
   "id": "de4be82e",
   "metadata": {},
   "outputs": [
    {
     "data": {
      "text/plain": [
       "dict_items([('name', ['John', 'Alice', 'Bob']), ('age', [20, 22, 21]), ('is_Intern', [True, False, True])])"
      ]
     },
     "execution_count": 24,
     "metadata": {},
     "output_type": "execute_result"
    }
   ],
   "source": [
    "#Create a dictionary to store info of 3 students (name, age,is_Intern).\n",
    "students = {\n",
    "    'name': ['John', 'Alice', 'Bob'],\n",
    "    'age': [20, 22, 21],\n",
    "    'is_Intern': [True, False, True]\n",
    "}\n"
   ]
  },
  {
   "cell_type": "code",
   "execution_count": 26,
   "id": "6bd010a4",
   "metadata": {},
   "outputs": [
    {
     "name": "stdout",
     "output_type": "stream",
     "text": [
      "name: ['John', 'Alice', 'Bob']\n",
      "age: [20, 22, 21]\n",
      "is_Intern: [True, False, True]\n",
      "None\n"
     ]
    }
   ],
   "source": [
    "#Write a function that takes a dictionary and prints key-value pairs.\n",
    "def getData(a):\n",
    "    for key, value in a.items():\n",
    "        print(f\"{key}: {value}\")\n",
    "\n",
    "print(getData(students))"
   ]
  },
  {
   "cell_type": "code",
   "execution_count": null,
   "id": "f8a99db6",
   "metadata": {},
   "outputs": [],
   "source": []
  }
 ],
 "metadata": {
  "kernelspec": {
   "display_name": "Python 3",
   "language": "python",
   "name": "python3"
  },
  "language_info": {
   "codemirror_mode": {
    "name": "ipython",
    "version": 3
   },
   "file_extension": ".py",
   "mimetype": "text/x-python",
   "name": "python",
   "nbconvert_exporter": "python",
   "pygments_lexer": "ipython3",
   "version": "3.11.9"
  }
 },
 "nbformat": 4,
 "nbformat_minor": 5
}
