{
 "cells": [
  {
   "cell_type": "code",
   "execution_count": null,
   "id": "145e9eff",
   "metadata": {},
   "outputs": [
    {
     "name": "stdout",
     "output_type": "stream",
     "text": [
      "Positive\n"
     ]
    }
   ],
   "source": [
    "#Conditional Statements\n",
    "x = 10\n",
    "if x > 0:\n",
    "    print(\"Positive\")\n",
    "elif x == 0:\n",
    "    print(\"Zero\")\n",
    "else:\n",
    "    print(\"Negative\")"
   ]
  },
  {
   "cell_type": "code",
   "execution_count": 6,
   "id": "f0fd7013",
   "metadata": {},
   "outputs": [
    {
     "name": "stdout",
     "output_type": "stream",
     "text": [
      "for: 0\n",
      "for: 1\n",
      "for: 2\n",
      "for: 3\n",
      "for: 4\n",
      "while 5\n",
      "while 4\n",
      "while 3\n",
      "while 2\n",
      "while 1\n",
      "0\n",
      "1\n",
      "3\n"
     ]
    }
   ],
   "source": [
    "#types of loops\n",
    "#for\n",
    "for i in range(5):\n",
    "    print(\"for:\",i)\n",
    "\n",
    "#While\n",
    "n = 5\n",
    "while n > 0:\n",
    "    print(\"while\",n)\n",
    "    n -= 1\n",
    "\n",
    "#Control statement\n",
    "for i in range(5):\n",
    "    if i == 2:\n",
    "        continue  # skip 2\n",
    "    if i == 4:\n",
    "        break     # stop at 4\n",
    "    print(i)"
   ]
  },
  {
   "cell_type": "markdown",
   "id": "f790dc9a",
   "metadata": {},
   "source": [
    "Practice Tasks\n"
   ]
  },
  {
   "cell_type": "code",
   "execution_count": 11,
   "id": "7df4bc04",
   "metadata": {},
   "outputs": [
    {
     "name": "stdout",
     "output_type": "stream",
     "text": [
      "2 X 0 = 2\n",
      "2 X 1 = 4\n",
      "2 X 2 = 6\n",
      "2 X 3 = 8\n",
      "2 X 4 = 10\n",
      "2 X 5 = 12\n",
      "2 X 6 = 14\n",
      "2 X 7 = 16\n",
      "2 X 8 = 18\n",
      "2 X 9 = 20\n"
     ]
    }
   ],
   "source": [
    "#Write a program to print the table of any number\n",
    "n=2\n",
    "for i in range(10):\n",
    "    print(f\"{n} X {i} = {n*(i+1)}\")\n"
   ]
  },
  {
   "cell_type": "code",
   "execution_count": 12,
   "id": "6b8e1f82",
   "metadata": {},
   "outputs": [
    {
     "name": "stdout",
     "output_type": "stream",
     "text": [
      "0\n",
      "1\n",
      "2\n",
      "3\n",
      "4\n",
      "6\n",
      "7\n",
      "8\n",
      "9\n"
     ]
    }
   ],
   "source": [
    "#Write a loop to print all numbers from 1 to 10, but skip 5.\n",
    "for i in range(10):\n",
    "    if i == 5:\n",
    "        continue  # skip 2\n",
    "    print(i)"
   ]
  },
  {
   "cell_type": "code",
   "execution_count": null,
   "id": "2e9903f0",
   "metadata": {},
   "outputs": [
    {
     "name": "stdout",
     "output_type": "stream",
     "text": [
      "90\n"
     ]
    }
   ],
   "source": [
    "#Print the sum of all even numbers from 1 to 20.\n",
    "sum=0\n",
    "for i in range(2,20,2):\n",
    "    sum+=i\n",
    "print(sum)"
   ]
  },
  {
   "cell_type": "code",
   "execution_count": null,
   "id": "fa838bee",
   "metadata": {},
   "outputs": [],
   "source": []
  }
 ],
 "metadata": {
  "kernelspec": {
   "display_name": "Python 3",
   "language": "python",
   "name": "python3"
  },
  "language_info": {
   "codemirror_mode": {
    "name": "ipython",
    "version": 3
   },
   "file_extension": ".py",
   "mimetype": "text/x-python",
   "name": "python",
   "nbconvert_exporter": "python",
   "pygments_lexer": "ipython3",
   "version": "3.11.9"
  }
 },
 "nbformat": 4,
 "nbformat_minor": 5
}
