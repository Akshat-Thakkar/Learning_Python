{
 "cells": [
  {
   "cell_type": "code",
   "execution_count": null,
   "id": "6f96e2b6",
   "metadata": {},
   "outputs": [],
   "source": [
    "# 1. Defining a Function\n",
    "def greet(name):\n",
    "    return f\"Hello, {name}!\""
   ]
  },
  {
   "cell_type": "code",
   "execution_count": null,
   "id": "567c0181",
   "metadata": {},
   "outputs": [],
   "source": [
    "# 2. Parameters & Arguments\n",
    "def add(a, b):\n",
    "    return a + b"
   ]
  },
  {
   "cell_type": "code",
   "execution_count": null,
   "id": "42eefa18",
   "metadata": {},
   "outputs": [],
   "source": [
    "# 3. Default Arguments\n",
    "def power(base, exponent=2):\n",
    "    return base ** exponent"
   ]
  },
  {
   "cell_type": "code",
   "execution_count": null,
   "id": "fe1d5074",
   "metadata": {},
   "outputs": [],
   "source": [
    "# 4. Keyword Arguments\n",
    "def profile(name, role):\n",
    "    print(f\"{name} is a {role}\")"
   ]
  },
  {
   "cell_type": "code",
   "execution_count": null,
   "id": "8e918ebc",
   "metadata": {},
   "outputs": [],
   "source": [
    "# 5. Variable-Length Arguments\n",
    "def total(*args):\n",
    "    return sum(args)\n",
    "\n",
    "def print_info(**kwargs):\n",
    "    for key, value in kwargs.items():\n",
    "        print(f\"{key}: {value}\")"
   ]
  },
  {
   "cell_type": "code",
   "execution_count": null,
   "id": "69666a9e",
   "metadata": {},
   "outputs": [],
   "source": [
    "# 6. Lambda Functions\n",
    "square = lambda x: x ** 2\n",
    "add_lambda = lambda a, b: a + b"
   ]
  },
  {
   "cell_type": "markdown",
   "id": "bf643c1c",
   "metadata": {},
   "source": [
    " Practice Tasks"
   ]
  },
  {
   "cell_type": "code",
   "execution_count": 2,
   "id": "e811fb99",
   "metadata": {},
   "outputs": [
    {
     "name": "stdout",
     "output_type": "stream",
     "text": [
      "Factorial of 5 is 120\n"
     ]
    }
   ],
   "source": [
    "#Write a function to return the factorial of a number.\n",
    "def fact(i):\n",
    "    if(i<=1):return 1\n",
    "    else:return i*fact(i-1)\n",
    "\n",
    "print(f\"Factorial of 5 is {fact(5)}\")"
   ]
  },
  {
   "cell_type": "code",
   "execution_count": null,
   "id": "6276cd19",
   "metadata": {},
   "outputs": [
    {
     "name": "stdout",
     "output_type": "stream",
     "text": [
      "200\n"
     ]
    }
   ],
   "source": [
    "#Create a lambda to multiply two numbers.\n",
    "multiply=lambda a,b: a*b\n",
    "print(multiply(10,20))"
   ]
  },
  {
   "cell_type": "code",
   "execution_count": null,
   "id": "7d90008e",
   "metadata": {},
   "outputs": [
    {
     "name": "stdout",
     "output_type": "stream",
     "text": [
      "82.5\n"
     ]
    }
   ],
   "source": [
    "#Use *args to pass any number of marks and return the average.\n",
    "def average_marks(*marks):\n",
    "    if not marks:\n",
    "        return 0\n",
    "    return sum(marks) / len(marks)\n",
    "\n",
    "# Example usage:\n",
    "print(average_marks(80, 90, 75, 85))"
   ]
  },
  {
   "cell_type": "code",
   "execution_count": null,
   "id": "301545cb",
   "metadata": {},
   "outputs": [],
   "source": []
  }
 ],
 "metadata": {
  "kernelspec": {
   "display_name": "Python 3",
   "language": "python",
   "name": "python3"
  },
  "language_info": {
   "codemirror_mode": {
    "name": "ipython",
    "version": 3
   },
   "file_extension": ".py",
   "mimetype": "text/x-python",
   "name": "python",
   "nbconvert_exporter": "python",
   "pygments_lexer": "ipython3",
   "version": "3.11.9"
  }
 },
 "nbformat": 4,
 "nbformat_minor": 5
}
